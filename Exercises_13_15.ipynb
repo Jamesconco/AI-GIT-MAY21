{
 "cells": [
  {
   "cell_type": "code",
   "execution_count": 26,
   "id": "467f2537",
   "metadata": {},
   "outputs": [],
   "source": [
    "#Needed libraries imported\n",
    "\n",
    "import numpy as np"
   ]
  },
  {
   "cell_type": "code",
   "execution_count": 27,
   "id": "0efdfc8d",
   "metadata": {},
   "outputs": [],
   "source": [
    "#13 A 10x10 array with random values and finding the minimum and maximum values"
   ]
  },
  {
   "cell_type": "code",
   "execution_count": 28,
   "id": "36758d31",
   "metadata": {},
   "outputs": [
    {
     "data": {
      "text/plain": [
       "array([[-3.45545135e-01,  4.93544683e-01, -8.58198283e-01,\n",
       "        -6.48479442e-01,  4.85921502e-01,  2.62248859e-01,\n",
       "        -1.61742526e+00, -7.89628520e-01,  2.46937891e-01,\n",
       "         2.63212548e+00],\n",
       "       [-1.13453917e+00,  4.81232393e-01,  2.62141904e+00,\n",
       "         3.84494833e-01, -5.56003121e-01,  3.39825846e-01,\n",
       "         3.76043106e-01,  3.42323275e-01, -1.62745113e+00,\n",
       "         5.59819400e-01],\n",
       "       [ 2.59445472e-01, -1.39436264e+00,  1.52554041e+00,\n",
       "        -8.05022270e-01, -1.23341720e-01,  6.76400694e-01,\n",
       "        -6.40398321e-01,  6.15542528e-01,  8.73896104e-01,\n",
       "         1.11570684e+00],\n",
       "       [-1.54431650e+00,  1.26532101e+00, -1.16342705e+00,\n",
       "         1.07564558e+00, -1.59586581e+00,  7.10692501e-01,\n",
       "         1.32085019e-01, -3.43070614e-01, -3.91178317e-02,\n",
       "        -5.97210158e-01],\n",
       "       [ 7.75363670e-01, -8.38995503e-01, -6.31538038e-02,\n",
       "         2.72720373e-01,  1.49600101e+00, -3.73281984e-01,\n",
       "         5.69885273e-01,  5.63966689e-02,  4.09844225e-01,\n",
       "        -1.43885296e+00],\n",
       "       [-1.51649436e-01, -6.20681278e-01, -1.20209875e+00,\n",
       "        -3.35419131e-01, -7.53620854e-01, -4.36144783e-01,\n",
       "        -1.32729364e+00, -2.20020483e+00, -2.24100756e+00,\n",
       "         4.88520531e-01],\n",
       "       [-7.91370887e-01,  1.28205295e+00, -6.59343402e-04,\n",
       "         1.70416689e+00,  1.84570508e+00, -7.35691211e-01,\n",
       "        -1.56044000e+00,  2.23248677e+00,  1.45943520e+00,\n",
       "         7.78782375e-01],\n",
       "       [ 4.88862364e-01,  5.73858480e-01,  8.56737551e-01,\n",
       "         8.34253109e-01, -3.13215037e-01,  6.28088267e-01,\n",
       "         1.25180140e+00,  1.24228095e+00,  4.46840658e-01,\n",
       "         1.43083191e+00],\n",
       "       [ 9.05658846e-01,  1.08557486e+00, -1.10343416e+00,\n",
       "         6.31837561e-01,  1.50420176e-01,  1.38948726e+00,\n",
       "         1.63941377e+00,  1.57230194e+00, -3.82153676e-01,\n",
       "         7.63417677e-01],\n",
       "       [ 1.13473317e+00, -8.10504303e-02, -1.66197826e+00,\n",
       "         1.72322605e+00, -2.74959812e-02, -1.84684773e-01,\n",
       "         8.89675445e-01, -1.87783946e+00, -6.66259634e-01,\n",
       "        -1.86484071e+00]])"
      ]
     },
     "execution_count": 28,
     "metadata": {},
     "output_type": "execute_result"
    }
   ],
   "source": [
    "np.random.normal(size=(10, 10))"
   ]
  },
  {
   "cell_type": "code",
   "execution_count": 29,
   "id": "1ff445b0",
   "metadata": {},
   "outputs": [
    {
     "data": {
      "text/plain": [
       "-2.144217151909039"
      ]
     },
     "execution_count": 29,
     "metadata": {},
     "output_type": "execute_result"
    }
   ],
   "source": [
    "np.random.normal(size=(10, 10)).min()"
   ]
  },
  {
   "cell_type": "code",
   "execution_count": 30,
   "id": "96de383f",
   "metadata": {},
   "outputs": [
    {
     "data": {
      "text/plain": [
       "2.5615745923647886"
      ]
     },
     "execution_count": 30,
     "metadata": {},
     "output_type": "execute_result"
    }
   ],
   "source": [
    "np.random.normal(size=(10, 10)).max()"
   ]
  },
  {
   "cell_type": "code",
   "execution_count": 31,
   "id": "8e0ba299",
   "metadata": {},
   "outputs": [],
   "source": [
    "#15 A 2D Array"
   ]
  },
  {
   "cell_type": "code",
   "execution_count": 24,
   "id": "3aaafba3",
   "metadata": {},
   "outputs": [
    {
     "name": "stdout",
     "output_type": "stream",
     "text": [
      "[[1. 1. 1. 1. 1.]\n",
      " [1. 0. 0. 0. 1.]\n",
      " [1. 0. 0. 0. 1.]\n",
      " [1. 0. 0. 0. 1.]\n",
      " [1. 1. 1. 1. 1.]]\n"
     ]
    }
   ],
   "source": [
    "arr = np.ones((5,5))\n",
    "arr[1:-1,1:-1] = 0\n",
    "print(arr)"
   ]
  },
  {
   "cell_type": "code",
   "execution_count": null,
   "id": "c7bf812a",
   "metadata": {},
   "outputs": [],
   "source": []
  }
 ],
 "metadata": {
  "kernelspec": {
   "display_name": "Python 3",
   "language": "python",
   "name": "python3"
  },
  "language_info": {
   "codemirror_mode": {
    "name": "ipython",
    "version": 3
   },
   "file_extension": ".py",
   "mimetype": "text/x-python",
   "name": "python",
   "nbconvert_exporter": "python",
   "pygments_lexer": "ipython3",
   "version": "3.8.10"
  }
 },
 "nbformat": 4,
 "nbformat_minor": 5
}
