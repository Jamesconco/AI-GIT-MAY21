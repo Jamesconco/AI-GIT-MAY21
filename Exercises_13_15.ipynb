{
 "cells": [
  {
   "cell_type": "code",
   "execution_count": 26,
   "id": "467f2537",
   "metadata": {},
   "outputs": [],
   "source": [
    "#Needed libraries imported\n",
    "\n",
    "import numpy as np\n",
    "import random"
   ]
  },
  {
   "cell_type": "code",
   "execution_count": 27,
   "id": "0efdfc8d",
   "metadata": {},
   "outputs": [],
   "source": [
    "#13 A 10x10 array with random values and finding the minimum and maximum values"
   ]
  },
  {
   "cell_type": "code",
   "execution_count": 46,
   "id": "36758d31",
   "metadata": {},
   "outputs": [
    {
     "name": "stdout",
     "output_type": "stream",
     "text": [
      "[[-1.82527743e+00  1.81153046e+00 -1.05603708e+00  1.02138619e+00\n",
      "   1.29975550e+00  3.86431912e-01 -6.86726441e-02 -1.20523682e+00\n",
      "   1.85037209e-01  9.38478082e-01]\n",
      " [ 3.52209999e-01  4.27229345e-01 -8.93568656e-01  7.78826001e-01\n",
      "   6.06216755e-01  1.17039245e+00  6.31258086e-01  4.93401053e-01\n",
      "  -7.24223127e-02  3.62859083e-01]\n",
      " [ 2.02406424e+00  1.47854125e-01 -5.84024906e-01  2.28308646e-01\n",
      "  -6.77891898e-02  1.68332440e+00 -3.08104679e-01  5.83511186e-01\n",
      "   7.44530833e-02 -1.46776046e-01]\n",
      " [-1.63489977e-01 -9.79250304e-01  4.62718794e-01  3.23150057e-01\n",
      "  -9.60294448e-01  1.61713030e+00  4.51374292e-01  7.40377193e-01\n",
      "   7.99364987e-01 -1.32744134e+00]\n",
      " [ 2.89388516e-01  9.64137308e-01 -4.84029345e-02 -8.32161837e-01\n",
      "   1.40528919e+00  5.63834742e-01 -1.35849846e+00 -7.74248414e-03\n",
      "   1.98896117e+00 -3.18502925e-01]\n",
      " [-9.72868240e-01  3.61031330e-01  2.49359861e-01 -1.30084258e+00\n",
      "  -2.93257954e-01 -2.29417842e+00 -7.69633410e-01  2.33051630e-01\n",
      "   8.35573370e-01  5.43734584e-02]\n",
      " [-5.00908239e-01 -1.22565832e-03 -1.72001619e+00 -3.11923823e-01\n",
      "  -2.04421243e+00  9.13063055e-02  1.04322220e+00  2.26809079e-01\n",
      "   9.62527273e-01 -4.44930597e-01]\n",
      " [ 2.05450809e+00 -1.33115837e-01 -2.63839826e+00  6.67496077e-01\n",
      "   1.09414675e+00 -6.62016867e-01 -1.52787403e+00 -1.11224401e+00\n",
      "  -1.98518797e-01  1.22407139e+00]\n",
      " [-1.47137002e+00 -6.24175554e-01  2.60076848e+00 -1.45505062e+00\n",
      "   6.43662704e-01  1.15394699e+00 -3.73907321e-02 -2.72397371e-01\n",
      "   2.78459863e-01  1.22527001e+00]\n",
      " [-7.46162172e-01  2.39429507e+00  1.28389222e+00  1.04670866e+00\n",
      "   3.85801411e-01 -6.71614489e-01 -2.01302359e+00 -9.00269048e-01\n",
      "  -5.93361578e-01  3.35115320e+00]]\n",
      "Minimum value is  -2.6383982617596975 Maximum value is  3.351153197443172\n"
     ]
    }
   ],
   "source": [
    "ten_by_ten = np.random.normal(size = (10, 10))\n",
    "print(ten_by_ten)\n",
    "minimum = ten_by_ten.min()\n",
    "maximum = ten_by_ten.max()\n",
    "print(\"Minimum value is \", minimum,  \"Maximum value is \", maximum)"
   ]
  },
  {
   "cell_type": "code",
   "execution_count": 31,
   "id": "8e0ba299",
   "metadata": {},
   "outputs": [],
   "source": [
    "#15 A 2D Array"
   ]
  },
  {
   "cell_type": "code",
   "execution_count": 24,
   "id": "3aaafba3",
   "metadata": {},
   "outputs": [
    {
     "name": "stdout",
     "output_type": "stream",
     "text": [
      "[[1. 1. 1. 1. 1.]\n",
      " [1. 0. 0. 0. 1.]\n",
      " [1. 0. 0. 0. 1.]\n",
      " [1. 0. 0. 0. 1.]\n",
      " [1. 1. 1. 1. 1.]]\n"
     ]
    }
   ],
   "source": [
    "arr = np.ones((5,5))\n",
    "arr[1:-1,1:-1] = 0\n",
    "print(arr)"
   ]
  },
  {
   "cell_type": "code",
   "execution_count": null,
   "id": "c7bf812a",
   "metadata": {},
   "outputs": [],
   "source": []
  }
 ],
 "metadata": {
  "kernelspec": {
   "display_name": "Python 3",
   "language": "python",
   "name": "python3"
  },
  "language_info": {
   "codemirror_mode": {
    "name": "ipython",
    "version": 3
   },
   "file_extension": ".py",
   "mimetype": "text/x-python",
   "name": "python",
   "nbconvert_exporter": "python",
   "pygments_lexer": "ipython3",
   "version": "3.8.10"
  }
 },
 "nbformat": 4,
 "nbformat_minor": 5
}