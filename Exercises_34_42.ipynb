{
 "cells": [
  {
   "cell_type": "code",
   "execution_count": 2,
   "id": "fa3e2124",
   "metadata": {},
   "outputs": [],
   "source": [
    "# Needed libraries imported\n",
    "\n",
    "import numpy as np\n",
    "import random"
   ]
  },
  {
   "cell_type": "code",
   "execution_count": 9,
   "id": "9ccf2409",
   "metadata": {},
   "outputs": [
    {
     "name": "stdout",
     "output_type": "stream",
     "text": [
      "July, 2016\n",
      "['2016-07-01' '2016-07-02' '2016-07-03' '2016-07-04' '2016-07-05'\n",
      " '2016-07-06' '2016-07-07' '2016-07-08' '2016-07-09' '2016-07-10'\n",
      " '2016-07-11' '2016-07-12' '2016-07-13' '2016-07-14' '2016-07-15'\n",
      " '2016-07-16' '2016-07-17' '2016-07-18' '2016-07-19' '2016-07-20'\n",
      " '2016-07-21' '2016-07-22' '2016-07-23' '2016-07-24' '2016-07-25'\n",
      " '2016-07-26' '2016-07-27' '2016-07-28' '2016-07-29' '2016-07-30'\n",
      " '2016-07-31']\n"
     ]
    }
   ],
   "source": [
    "#34 Getting the dates corresponding to the month of July 2016\n",
    "\n",
    "print(\"July, 2016\")\n",
    "print(np.arange('2016-07', '2016-08', dtype ='datetime64[D]'))"
   ]
  },
  {
   "cell_type": "code",
   "execution_count": 3,
   "id": "257fe109",
   "metadata": {},
   "outputs": [
    {
     "output_type": "stream",
     "name": "stdout",
     "text": [
      "A is  [[0.15665394 0.04846697 0.92684157]\n [0.70916379 0.22429012 0.254991  ]\n [0.65039671 0.15896824 0.14859944]]\nB is  [[0.33949126 0.36358794 0.86846154]\n [0.04063757 0.5777321  0.28306458]\n [0.78466615 0.88307603 0.07703493]]\nIs A and B equal:  False\n"
     ]
    }
   ],
   "source": [
    "#42. Considering two random array A and B, and checking if they are equal\n",
    "array_A = np.random.uniform(size=(3, 3))\n",
    "array_B = np.random.uniform(size=(3, 3))\n",
    "\n",
    "print(\"A is \", array_A)\n",
    "print(\"B is \", array_B)\n",
    "print(\"Is A and B equal: \", array_A is array_B)"
   ]
  },
  {
   "cell_type": "code",
   "execution_count": null,
   "id": "b34db998",
   "metadata": {},
   "outputs": [],
   "source": []
  }
 ],
 "metadata": {
  "kernelspec": {
   "name": "python3810jvsc74a57bd0efbb8dbf2b504293b969e73168387097e6ae1f82f7f08348eba8c50a72325f62",
   "display_name": "Python 3.8.10 64-bit ('strive': conda)"
  },
  "language_info": {
   "codemirror_mode": {
    "name": "ipython",
    "version": 3
   },
   "file_extension": ".py",
   "mimetype": "text/x-python",
   "name": "python",
   "nbconvert_exporter": "python",
   "pygments_lexer": "ipython3",
   "version": "3.8.10"
  },
  "metadata": {
   "interpreter": {
    "hash": "f5c9dfabb21bd2a91b63810df81acbdc6b5e617e45414f0ef050ca96090c868f"
   }
  }
 },
 "nbformat": 4,
 "nbformat_minor": 5
}