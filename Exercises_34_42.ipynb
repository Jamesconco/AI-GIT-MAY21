{
 "cells": [
  {
   "cell_type": "code",
   "execution_count": 1,
   "id": "fa3e2124",
   "metadata": {},
   "outputs": [],
   "source": [
    "# Needed libraries imported\n",
    "\n",
    "import numpy as np\n",
    "import random"
   ]
  },
  {
   "cell_type": "code",
   "execution_count": 9,
   "id": "9ccf2409",
   "metadata": {},
   "outputs": [
    {
     "name": "stdout",
     "output_type": "stream",
     "text": [
      "July, 2016\n",
      "['2016-07-01' '2016-07-02' '2016-07-03' '2016-07-04' '2016-07-05'\n",
      " '2016-07-06' '2016-07-07' '2016-07-08' '2016-07-09' '2016-07-10'\n",
      " '2016-07-11' '2016-07-12' '2016-07-13' '2016-07-14' '2016-07-15'\n",
      " '2016-07-16' '2016-07-17' '2016-07-18' '2016-07-19' '2016-07-20'\n",
      " '2016-07-21' '2016-07-22' '2016-07-23' '2016-07-24' '2016-07-25'\n",
      " '2016-07-26' '2016-07-27' '2016-07-28' '2016-07-29' '2016-07-30'\n",
      " '2016-07-31']\n"
     ]
    }
   ],
   "source": [
    "#34 Getting the dates corresponding to the month of July 2016\n",
    "\n",
    "print(\"July, 2016\")\n",
    "print(np.arange('2016-07', '2016-08', dtype ='datetime64[D]'))"
   ]
  },
  {
   "cell_type": "code",
   "execution_count": 28,
   "id": "257fe109",
   "metadata": {},
   "outputs": [
    {
     "name": "stdout",
     "output_type": "stream",
     "text": [
      "A is  [[0.94888594 0.30923896 0.93427144]\n",
      " [0.30142622 0.67599573 0.66456931]\n",
      " [0.92666859 0.42136618 0.2419281 ]]\n",
      "B is  [[0.36401774 0.88887515 0.09022279]\n",
      " [0.15485347 0.19786308 0.63394752]\n",
      " [0.74816484 0.31594488 0.73429798]]\n",
      "Is A and B equal:  False\n"
     ]
    }
   ],
   "source": [
    "#42. Considering two random array A and B, and checking if they are equal\n",
    "array_A = np.random.uniform(size=(3, 3))\n",
    "array_B = np.random.uniform(size=(3, 3))\n",
    "\n",
    "print(\"A is \", array_A)\n",
    "print(\"B is \", array_B)\n",
    "print(\"Is A and B equal: \", array_A is array_B)"
   ]
  },
  {
   "cell_type": "code",
   "execution_count": null,
   "id": "b34db998",
   "metadata": {},
   "outputs": [],
   "source": []
  }
 ],
 "metadata": {
  "kernelspec": {
   "display_name": "Python 3",
   "language": "python",
   "name": "python3"
  },
  "language_info": {
   "codemirror_mode": {
    "name": "ipython",
    "version": 3
   },
   "file_extension": ".py",
   "mimetype": "text/x-python",
   "name": "python",
   "nbconvert_exporter": "python",
   "pygments_lexer": "ipython3",
   "version": "3.8.10"
  }
 },
 "nbformat": 4,
 "nbformat_minor": 5
}
