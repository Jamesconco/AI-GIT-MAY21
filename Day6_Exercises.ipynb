{
 "cells": [
  {
   "cell_type": "code",
   "execution_count": 2,
   "id": "27eac6e0",
   "metadata": {},
   "outputs": [],
   "source": [
    "import pandas as pd\n",
    "import numpy as np\n",
    "\n",
    "data = {'animal': ['cat', 'cat', 'snake', 'dog', 'dog', 'cat', 'snake', 'cat', 'dog', 'dog'],\n",
    "        'age': [2.5, 3, 0.5, np.nan, 5, 2, 4.5, np.nan, 7, 3],\n",
    "        'visits': [1, 3, 2, 3, 2, 3, 1, 1, 2, 1],\n",
    "        'priority': ['yes', 'yes', 'no', 'yes', 'no', 'no', 'no', 'yes', 'no', 'no']}\n",
    "\n",
    "labels = ['a', 'b', 'c', 'd', 'e', 'f', 'g', 'h', 'i', 'j']\n",
    "\n",
    "\n",
    "df = pd.DataFrame(data, index=labels)"
   ]
  },
  {
   "cell_type": "code",
   "execution_count": 5,
   "id": "5e1f69db",
   "metadata": {},
   "outputs": [],
   "source": [
    "df.loc['f', 'age'] = 1.5"
   ]
  },
  {
   "cell_type": "code",
   "execution_count": 6,
   "id": "88e99d6e",
   "metadata": {},
   "outputs": [],
   "source": [
    "# 18. Sort df first by the values in the 'age' in decending order, then by the value in the 'visit' column in ascending order."
   ]
  },
  {
   "cell_type": "code",
   "execution_count": 7,
   "id": "c04bbaf3",
   "metadata": {},
   "outputs": [],
   "source": [
    "df.sort_values(by=['age'], ascending=False, inplace=True)\n",
    "df.sort_values(by=['visits'], inplace=True)"
   ]
  },
  {
   "cell_type": "code",
   "execution_count": 8,
   "id": "1288240c",
   "metadata": {},
   "outputs": [
    {
     "data": {
      "text/html": [
       "<div>\n",
       "<style scoped>\n",
       "    .dataframe tbody tr th:only-of-type {\n",
       "        vertical-align: middle;\n",
       "    }\n",
       "\n",
       "    .dataframe tbody tr th {\n",
       "        vertical-align: top;\n",
       "    }\n",
       "\n",
       "    .dataframe thead th {\n",
       "        text-align: right;\n",
       "    }\n",
       "</style>\n",
       "<table border=\"1\" class=\"dataframe\">\n",
       "  <thead>\n",
       "    <tr style=\"text-align: right;\">\n",
       "      <th></th>\n",
       "      <th>0</th>\n",
       "      <th>1</th>\n",
       "      <th>2</th>\n",
       "    </tr>\n",
       "  </thead>\n",
       "  <tbody>\n",
       "    <tr>\n",
       "      <th>0</th>\n",
       "      <td>-0.016506</td>\n",
       "      <td>0.007013</td>\n",
       "      <td>0.009493</td>\n",
       "    </tr>\n",
       "    <tr>\n",
       "      <th>1</th>\n",
       "      <td>-0.011229</td>\n",
       "      <td>0.378601</td>\n",
       "      <td>-0.367372</td>\n",
       "    </tr>\n",
       "    <tr>\n",
       "      <th>2</th>\n",
       "      <td>-0.153731</td>\n",
       "      <td>0.433776</td>\n",
       "      <td>-0.280045</td>\n",
       "    </tr>\n",
       "    <tr>\n",
       "      <th>3</th>\n",
       "      <td>0.010972</td>\n",
       "      <td>0.410959</td>\n",
       "      <td>-0.421931</td>\n",
       "    </tr>\n",
       "    <tr>\n",
       "      <th>4</th>\n",
       "      <td>0.244199</td>\n",
       "      <td>-0.164452</td>\n",
       "      <td>-0.079746</td>\n",
       "    </tr>\n",
       "  </tbody>\n",
       "</table>\n",
       "</div>"
      ],
      "text/plain": [
       "          0         1         2\n",
       "0 -0.016506  0.007013  0.009493\n",
       "1 -0.011229  0.378601 -0.367372\n",
       "2 -0.153731  0.433776 -0.280045\n",
       "3  0.010972  0.410959 -0.421931\n",
       "4  0.244199 -0.164452 -0.079746"
      ]
     },
     "execution_count": 8,
     "metadata": {},
     "output_type": "execute_result"
    }
   ],
   "source": [
    "# 23. how do you subtract the row mean from each element in the row?\n",
    "df1 = pd.DataFrame(np.random.random(size=(5, 3)))\n",
    "rows_mean = df1.mean(axis=1)\n",
    "df1.sub(rows_mean, axis=0)"
   ]
  },
  {
   "cell_type": "code",
   "execution_count": 9,
   "id": "150f5887",
   "metadata": {},
   "outputs": [
    {
     "name": "stdout",
     "output_type": "stream",
     "text": [
      "e\n"
     ]
    }
   ],
   "source": [
    "# 24. Suppose you have DataFrame with 10 columns of real numbers, for example:\n",
    "# df = pd.DataFrame(np.random.random(size=(5, 10)), columns=list('abcdefghij'))\n",
    "# Which column of numbers has the smallest sum? (Find that column's label.)\n",
    "\n",
    "df2 = pd.DataFrame(np.random.random(size=(5, 10)), columns=list('abcdefghij'))\n",
    "cols_sum = df2.sum(axis=0)\n",
    "\n",
    "lst_of_key = list(dict(cols_sum).keys())\n",
    "lst_of_val = list(dict(cols_sum).values())\n",
    "index_of_min_value = lst_of_val.index(min(cols_sum))\n",
    "print(lst_of_key[index_of_min_value])"
   ]
  },
  {
   "cell_type": "code",
   "execution_count": 11,
   "id": "a4ef6910",
   "metadata": {},
   "outputs": [
    {
     "data": {
      "text/plain": [
       "g    animal\n",
       "j    animal\n",
       "a    animal\n",
       "h    animal\n",
       "i    animal\n",
       "e    animal\n",
       "c    animal\n",
       "b    animal\n",
       "f    animal\n",
       "d    animal\n",
       "dtype: object"
      ]
     },
     "execution_count": 11,
     "metadata": {},
     "output_type": "execute_result"
    }
   ],
   "source": [
    "# 26. You have a DataFrame that consists of 10 columns of floating--point numbers.\n",
    "# Suppose that exactly 5 entries in each row are NaN values.\n",
    "# For each row of the DataFrame, find the column which contains the third NaN value.\n",
    "# df3 = pd.DataFrame(np.random.random(size=(5, 10)))\n",
    "((df.isnull().cumsum(axis=1)) == 3).idxmax(axis=\"columns\")"
   ]
  },
  {
   "cell_type": "code",
   "execution_count": 12,
   "id": "1044963e",
   "metadata": {},
   "outputs": [
    {
     "data": {
      "text/plain": [
       "grps\n",
       "a    409\n",
       "b    156\n",
       "c    345\n",
       "Name: vals, dtype: int64"
      ]
     },
     "execution_count": 12,
     "metadata": {},
     "output_type": "execute_result"
    }
   ],
   "source": [
    "# 27. A DataFrame has a column of groups 'grps' and and column of numbers 'vals'.\n",
    "# For each group, find the sum of the three greatest values.\n",
    "\n",
    "df = pd.DataFrame({'grps': list('aaabbcaabcccbbc'),\n",
    "                    'vals': [12, 345, 3, 1, 45, 14, 4, 52, 54, 23, 235, 21, 57, 3, 87]})\n",
    "\n",
    "df.groupby('grps')['vals'].nlargest(3).sum(level=0)"
   ]
  },
  {
   "cell_type": "code",
   "execution_count": null,
   "id": "9ba393a8",
   "metadata": {},
   "outputs": [],
   "source": []
  }
 ],
 "metadata": {
  "kernelspec": {
   "display_name": "Python 3",
   "language": "python",
   "name": "python3"
  },
  "language_info": {
   "codemirror_mode": {
    "name": "ipython",
    "version": 3
   },
   "file_extension": ".py",
   "mimetype": "text/x-python",
   "name": "python",
   "nbconvert_exporter": "python",
   "pygments_lexer": "ipython3",
   "version": "3.8.10"
  }
 },
 "nbformat": 4,
 "nbformat_minor": 5
}
